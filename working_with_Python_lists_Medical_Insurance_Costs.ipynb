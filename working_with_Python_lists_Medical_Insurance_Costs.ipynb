{
  "nbformat": 4,
  "nbformat_minor": 0,
  "metadata": {
    "colab": {
      "provenance": [],
      "authorship_tag": "ABX9TyMCAhp9BwHBSsoOyTU6iKL+",
      "include_colab_link": true
    },
    "kernelspec": {
      "name": "python3",
      "display_name": "Python 3"
    },
    "language_info": {
      "name": "python"
    }
  },
  "cells": [
    {
      "cell_type": "markdown",
      "metadata": {
        "id": "view-in-github",
        "colab_type": "text"
      },
      "source": [
        "<a href=\"https://colab.research.google.com/github/ZachA-D/Beginner_python_project/blob/main/working_with_Python_lists_Medical_Insurance_Costs.ipynb\" target=\"_parent\"><img src=\"https://colab.research.google.com/assets/colab-badge.svg\" alt=\"Open In Colab\"/></a>"
      ]
    },
    {
      "cell_type": "markdown",
      "source": [
        "# Python Lists with Medical Insurance Costs"
      ],
      "metadata": {
        "id": "6cfgXFxJOaI-"
      }
    },
    {
      "cell_type": "markdown",
      "source": [
        "In this project, we will be sorting through medical insurance cost data for some patients. Using our knowledge of Python lists we will store the medical data and see what insights we can gain from said data."
      ],
      "metadata": {
        "id": "BCpd_ex0jklz"
      }
    },
    {
      "cell_type": "markdown",
      "source": [
        "**1. Exploring List Data**"
      ],
      "metadata": {
        "id": "lEbcJSVAkCMV"
      }
    },
    {
      "cell_type": "markdown",
      "source": [
        "Lets take a look at the two lists that are posted below. \"names\" stores the names of 10 individuals and \"insurance costs\" stores their medical insurance costs"
      ],
      "metadata": {
        "id": "QhhAdCQdkNd4"
      }
    },
    {
      "cell_type": "code",
      "source": [
        "names = [\"Mohamed\", \"Sara\", \"Xia\", \"Paul\", \"Valentina\", \"Jide\", \"Aaron\", \"Emily\", \"Nikita\", \"Paul\"]\n",
        "insurance_costs = [13262.0, 4816.0, 6839.0, 5054.0, 14724.0, 5360.0, 7640.0, 6072.0, 2750.0, 12064.0]"
      ],
      "metadata": {
        "id": "t7ps_jvufDd_"
      },
      "execution_count": 17,
      "outputs": []
    },
    {
      "cell_type": "markdown",
      "source": [
        "Let's add some additional information to the list:\n",
        "\n",
        "\n",
        "*   Add \"Priscilla\" to \"names\n",
        "*   Add her insurance cost, 8320.0, to \"insurance costs\".\n",
        "\n",
        "\n"
      ],
      "metadata": {
        "id": "zTVvEOx_kmA6"
      }
    },
    {
      "cell_type": "code",
      "source": [
        "names = [\"Mohamed\", \"Sara\", \"Xia\", \"Paul\", \"Valentina\", \"Jide\", \"Aaron\", \"Emily\", \"Nikita\", \"Paul\"]\n",
        "insurance_costs = [13262.0, 4816.0, 6839.0, 5054.0, 14724.0, 5360.0, 7640.0, 6072.0, 2750.0, 12064.0]\n",
        "names.append(\"Priscilla\")\n",
        "insurance_costs.append(8320.0)"
      ],
      "metadata": {
        "id": "rqlFaufzzUP_"
      },
      "execution_count": 16,
      "outputs": []
    },
    {
      "cell_type": "markdown",
      "source": [
        "Right now, the \"names\" and \"insurance_costs\" lists are seperate, but we need the costs to be paired with the name. To combine them, we need to use the .zip function. We will name the .zip list \"medical_records\"."
      ],
      "metadata": {
        "id": "EtA7S0SkDVaN"
      }
    },
    {
      "cell_type": "code",
      "source": [
        "names = [\"Mohamed\", \"Sara\", \"Xia\", \"Paul\", \"Valentina\", \"Jide\", \"Aaron\", \"Emily\", \"Nikita\", \"Paul\"]\n",
        "insurance_costs = [13262.0, 4816.0, 6839.0, 5054.0, 14724.0, 5360.0, 7640.0, 6072.0, 2750.0, 12064.0]\n",
        "names.append(\"Priscilla\")\n",
        "insurance_costs.append(8320.0)\n",
        "medical_records = list(zip(names, insurance_costs))\n",
        "print(medical_records)"
      ],
      "metadata": {
        "colab": {
          "base_uri": "https://localhost:8080/"
        },
        "id": "U5T33y4xHQdE",
        "outputId": "f85a0c6f-2f94-49a7-9f82-7f28cdcfd30d"
      },
      "execution_count": 1,
      "outputs": [
        {
          "output_type": "stream",
          "name": "stdout",
          "text": [
            "[('Mohamed', 13262.0), ('Sara', 4816.0), ('Xia', 6839.0), ('Paul', 5054.0), ('Valentina', 14724.0), ('Jide', 5360.0), ('Aaron', 7640.0), ('Emily', 6072.0), ('Nikita', 2750.0), ('Paul', 12064.0), ('Priscilla', 8320.0)]\n"
          ]
        }
      ]
    },
    {
      "cell_type": "markdown",
      "source": [
        "The list looks good! now let's explore the medical data.\n",
        "\n",
        "We would like to see how many medical records we're dealing with. to do this we will use the len() function to calculate the length of the medical records and call this variable \"num_medical_records\"."
      ],
      "metadata": {
        "id": "UuLZAWizH5tj"
      }
    },
    {
      "cell_type": "code",
      "source": [
        "names = [\"Mohamed\", \"Sara\", \"Xia\", \"Paul\", \"Valentina\", \"Jide\", \"Aaron\", \"Emily\", \"Nikita\", \"Paul\"]\n",
        "insurance_costs = [13262.0, 4816.0, 6839.0, 5054.0, 14724.0, 5360.0, 7640.0, 6072.0, 2750.0, 12064.0]\n",
        "names.append(\"Priscilla\")\n",
        "insurance_costs.append(8320.0)\n",
        "medical_records = list(zip(names, insurance_costs))\n",
        "num_medical_records = len(medical_records)\n",
        "print(num_medical_records)"
      ],
      "metadata": {
        "colab": {
          "base_uri": "https://localhost:8080/"
        },
        "id": "ZIodS5SELwOn",
        "outputId": "74be7cfc-bc5d-47d1-acd3-38c5ec55d969"
      },
      "execution_count": 2,
      "outputs": [
        {
          "output_type": "stream",
          "name": "stdout",
          "text": [
            "11\n"
          ]
        }
      ]
    },
    {
      "cell_type": "markdown",
      "source": [
        "Looks like we have 11 records total. Now, lets create a message that would be easy for everyone to read."
      ],
      "metadata": {
        "id": "fxmKg4w1L2jQ"
      }
    },
    {
      "cell_type": "code",
      "source": [
        "names = [\"Mohamed\", \"Sara\", \"Xia\", \"Paul\", \"Valentina\", \"Jide\", \"Aaron\", \"Emily\", \"Nikita\", \"Paul\"]\n",
        "insurance_costs = [13262.0, 4816.0, 6839.0, 5054.0, 14724.0, 5360.0, 7640.0, 6072.0, 2750.0, 12064.0]\n",
        "names.append(\"Priscilla\")\n",
        "insurance_costs.append(8320.0)\n",
        "medical_records = list(zip(names, insurance_costs))\n",
        "num_medical_records = len(medical_records)\n",
        "message = f\"There are {num_medical_records} medical records in the list.\"\n",
        "print(message)"
      ],
      "metadata": {
        "colab": {
          "base_uri": "https://localhost:8080/"
        },
        "id": "X2YNLP1MMllL",
        "outputId": "22f52ea7-f032-4776-f0e7-7c5a36c6fe6f"
      },
      "execution_count": 3,
      "outputs": [
        {
          "output_type": "stream",
          "name": "stdout",
          "text": [
            "There are 11 medical records in the list.\n"
          ]
        }
      ]
    },
    {
      "cell_type": "markdown",
      "source": [
        "Looks like the name \"Paul\" is mentioned more than once, let's count how many times \"Paul\" is mentioned in the list."
      ],
      "metadata": {
        "id": "O6KolC5wUkIE"
      }
    },
    {
      "cell_type": "code",
      "source": [
        "names = [\"Mohamed\", \"Sara\", \"Xia\", \"Paul\", \"Valentina\", \"Jide\", \"Aaron\", \"Emily\", \"Nikita\", \"Paul\"]\n",
        "insurance_costs = [13262.0, 4816.0, 6839.0, 5054.0, 14724.0, 5360.0, 7640.0, 6072.0, 2750.0, 12064.0]\n",
        "names.append(\"Priscilla\")\n",
        "insurance_costs.append(8320.0)\n",
        "medical_records = list(zip(names, insurance_costs))\n",
        "num_medical_records = len(medical_records)\n",
        "message = f\"There are {num_medical_records} medical records in the list.\"\n",
        "paul_count = names.count(\"Paul\")\n",
        "print(\"Paul is mentioned \" + str(paul_count) + \" times.\")"
      ],
      "metadata": {
        "colab": {
          "base_uri": "https://localhost:8080/"
        },
        "id": "dl6B5VT5VRAX",
        "outputId": "5454bbcf-8999-4b0d-cca0-1ccf17594c57"
      },
      "execution_count": 19,
      "outputs": [
        {
          "output_type": "stream",
          "name": "stdout",
          "text": [
            "Paul is mentioned 2 times.\n"
          ]
        }
      ]
    },
    {
      "cell_type": "markdown",
      "source": [
        "**2. Selecting Specific List Elements**"
      ],
      "metadata": {
        "id": "b_qnDPT7MxT8"
      }
    },
    {
      "cell_type": "markdown",
      "source": [
        "Let's take a look at the first record from \"medical_records\" and save it as \"first_medical_record\". Then we'll print a statement so everyone can know what the first record is."
      ],
      "metadata": {
        "id": "YOjdoG1mM_Os"
      }
    },
    {
      "cell_type": "code",
      "source": [
        "names = [\"Mohamed\", \"Sara\", \"Xia\", \"Paul\", \"Valentina\", \"Jide\", \"Aaron\", \"Emily\", \"Nikita\", \"Paul\"]\n",
        "insurance_costs = [13262.0, 4816.0, 6839.0, 5054.0, 14724.0, 5360.0, 7640.0, 6072.0, 2750.0, 12064.0]\n",
        "names.append(\"Priscilla\")\n",
        "insurance_costs.append(8320.0)\n",
        "medical_records = list(zip(names, insurance_costs))\n",
        "first_medical_record = medical_records[0]\n",
        "print(\"here is the first medical record: \", first_medical_record)"
      ],
      "metadata": {
        "colab": {
          "base_uri": "https://localhost:8080/"
        },
        "id": "IxhXim7wNOIh",
        "outputId": "737fa354-bc55-43a4-f449-5f3571386766"
      },
      "execution_count": 5,
      "outputs": [
        {
          "output_type": "stream",
          "name": "stdout",
          "text": [
            "here is the first medical record:  ('Mohamed', 13262.0)\n"
          ]
        }
      ]
    },
    {
      "cell_type": "markdown",
      "source": [
        "**3. Sorting Lists**"
      ],
      "metadata": {
        "id": "LLeXh3o8OQ5C"
      }
    },
    {
      "cell_type": "markdown",
      "source": [
        "Let's clean this data up a bit by sorting our records by sorting the individuals from lowest insurance costs to highest insurance costs, once we're done, we'll print a message that will be easy for shareholders to read."
      ],
      "metadata": {
        "id": "IvY4aIR9OXIC"
      }
    },
    {
      "cell_type": "code",
      "source": [
        "names = [\"Mohamed\", \"Sara\", \"Xia\", \"Paul\", \"Valentina\", \"Jide\", \"Aaron\", \"Emily\", \"Nikita\", \"Paul\"]\n",
        "insurance_costs = [13262.0, 4816.0, 6839.0, 5054.0, 14724.0, 5360.0, 7640.0, 6072.0, 2750.0, 12064.0]\n",
        "names.append(\"Priscilla\")\n",
        "insurance_costs.append(8320.0)\n",
        "medical_records = list(zip(names, insurance_costs))\n",
        "medical_records.sort(key=lambda x: x[1])\n",
        "print(\"Here are the insurance costs in ascending order: \" + str(medical_records))\n",
        ""
      ],
      "metadata": {
        "colab": {
          "base_uri": "https://localhost:8080/"
        },
        "id": "yx5UKrrLQXU3",
        "outputId": "a4d850c0-48ae-4912-c979-96fc45f088ef"
      },
      "execution_count": 10,
      "outputs": [
        {
          "output_type": "stream",
          "name": "stdout",
          "text": [
            "Here are the insurance costs in ascending order: [('Nikita', 2750.0), ('Sara', 4816.0), ('Paul', 5054.0), ('Jide', 5360.0), ('Emily', 6072.0), ('Xia', 6839.0), ('Aaron', 7640.0), ('Priscilla', 8320.0), ('Paul', 12064.0), ('Mohamed', 13262.0), ('Valentina', 14724.0)]\n"
          ]
        }
      ]
    },
    {
      "cell_type": "markdown",
      "source": [
        "Here's the same list, but in descending order:"
      ],
      "metadata": {
        "id": "MLaqYbkmR_aP"
      }
    },
    {
      "cell_type": "code",
      "source": [
        "names = [\"Mohamed\", \"Sara\", \"Xia\", \"Paul\", \"Valentina\", \"Jide\", \"Aaron\", \"Emily\", \"Nikita\", \"Paul\"]\n",
        "insurance_costs = [13262.0, 4816.0, 6839.0, 5054.0, 14724.0, 5360.0, 7640.0, 6072.0, 2750.0, 12064.0]\n",
        "names.append(\"Priscilla\")\n",
        "insurance_costs.append(8320.0)\n",
        "medical_records = list(zip(names, insurance_costs))\n",
        "medical_records.sort(key=lambda x: x[1], reverse=True)\n",
        "print(\"Here are the insurance costs in descending order: \" + str(medical_records))"
      ],
      "metadata": {
        "colab": {
          "base_uri": "https://localhost:8080/"
        },
        "id": "n0dAWe-3RsMa",
        "outputId": "20b02088-835d-4b5a-8e68-c9c35331ca56"
      },
      "execution_count": 12,
      "outputs": [
        {
          "output_type": "stream",
          "name": "stdout",
          "text": [
            "Here are the insurance costs in descending order: [('Valentina', 14724.0), ('Mohamed', 13262.0), ('Paul', 12064.0), ('Priscilla', 8320.0), ('Aaron', 7640.0), ('Xia', 6839.0), ('Emily', 6072.0), ('Jide', 5360.0), ('Paul', 5054.0), ('Sara', 4816.0), ('Nikita', 2750.0)]\n"
          ]
        }
      ]
    },
    {
      "cell_type": "markdown",
      "source": [
        "**4. Slicing Lists**"
      ],
      "metadata": {
        "id": "4AyUxl0VSSI2"
      }
    },
    {
      "cell_type": "markdown",
      "source": [
        "We need to take a look at the three cheapest insurance costs in our records. For this, we will slice the \"medical_records\" list and store the three cheapest insurance costs and call the list \"cheapest_three\". Once defined, let's create a message for our shareholders to read."
      ],
      "metadata": {
        "id": "d9EUsP_hSdg8"
      }
    },
    {
      "cell_type": "code",
      "source": [
        "names = [\"Mohamed\", \"Sara\", \"Xia\", \"Paul\", \"Valentina\", \"Jide\", \"Aaron\", \"Emily\", \"Nikita\", \"Paul\"]\n",
        "insurance_costs = [13262.0, 4816.0, 6839.0, 5054.0, 14724.0, 5360.0, 7640.0, 6072.0, 2750.0, 12064.0]\n",
        "names.append(\"Priscilla\")\n",
        "insurance_costs.append(8320.0)\n",
        "medical_records = list(zip(names, insurance_costs))\n",
        "medical_records.sort(key=lambda x: x[1])\n",
        "cheapest_three = medical_records[0:3]\n",
        "print(\"Here are the three cheapest insurance costs in our medical records: \"+ str(cheapest_three))\n"
      ],
      "metadata": {
        "colab": {
          "base_uri": "https://localhost:8080/"
        },
        "id": "X3-9TqgOTBxX",
        "outputId": "714810c7-bd9f-4e29-b928-45c04ee4d1a4"
      },
      "execution_count": 14,
      "outputs": [
        {
          "output_type": "stream",
          "name": "stdout",
          "text": [
            "Here are the three cheapest insurance costs in our medical records: [('Nikita', 2750.0), ('Sara', 4816.0), ('Paul', 5054.0)]\n"
          ]
        }
      ]
    },
    {
      "cell_type": "markdown",
      "source": [
        "Looks great! now let's do the same thing but for the three most expensive records in our list."
      ],
      "metadata": {
        "id": "quag5oHzTshD"
      }
    },
    {
      "cell_type": "code",
      "source": [
        "names = [\"Mohamed\", \"Sara\", \"Xia\", \"Paul\", \"Valentina\", \"Jide\", \"Aaron\", \"Emily\", \"Nikita\", \"Paul\"]\n",
        "insurance_costs = [13262.0, 4816.0, 6839.0, 5054.0, 14724.0, 5360.0, 7640.0, 6072.0, 2750.0, 12064.0]\n",
        "names.append(\"Priscilla\")\n",
        "insurance_costs.append(8320.0)\n",
        "medical_records = list(zip(names, insurance_costs))\n",
        "medical_records.sort(key=lambda x: x[1])\n",
        "most_expensive_three = medical_records[-3:]\n",
        "print(\"Here are the three most expensive insurance costs in our medical records: \"+ str(most_expensive_three))"
      ],
      "metadata": {
        "colab": {
          "base_uri": "https://localhost:8080/"
        },
        "id": "YFKEYUT8T51u",
        "outputId": "deb0ca8c-adf4-47d3-ba1d-7ed5a75c3c92"
      },
      "execution_count": 15,
      "outputs": [
        {
          "output_type": "stream",
          "name": "stdout",
          "text": [
            "Here are the three most expensive insurance costs in our medical records: [('Paul', 12064.0), ('Mohamed', 13262.0), ('Valentina', 14724.0)]\n"
          ]
        }
      ]
    },
    {
      "cell_type": "markdown",
      "source": [
        "Fantastic! This was a fun project, thank you for reading my work, have a good day!"
      ],
      "metadata": {
        "id": "fmWgBJYsUIUw"
      }
    }
  ]
}