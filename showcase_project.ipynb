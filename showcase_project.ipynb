{
  "nbformat": 4,
  "nbformat_minor": 0,
  "metadata": {
    "colab": {
      "provenance": [],
      "authorship_tag": "ABX9TyM/6XlmOO0XAf76Ob7IIN7w",
      "include_colab_link": true
    },
    "kernelspec": {
      "name": "python3",
      "display_name": "Python 3"
    },
    "language_info": {
      "name": "python"
    }
  },
  "cells": [
    {
      "cell_type": "markdown",
      "metadata": {
        "id": "view-in-github",
        "colab_type": "text"
      },
      "source": [
        "<a href=\"https://colab.research.google.com/github/ZachA-D/Beginner_python_project/blob/main/showcase_project.ipynb\" target=\"_parent\"><img src=\"https://colab.research.google.com/assets/colab-badge.svg\" alt=\"Open In Colab\"/></a>"
      ]
    },
    {
      "cell_type": "markdown",
      "source": [
        "# Frida Kahlo Retrospective project"
      ],
      "metadata": {
        "id": "wJfCtXCdcRFE"
      }
    },
    {
      "cell_type": "markdown",
      "source": [
        "We've been hired to work on a retrospective of Frida Kahlo's work at a major museum in Mexico.\n",
        "\n",
        "For this project we will be putting together an audio tour, but in order to do that, we need to create a list of each painting featured in the exhibit, the date was painted, and its a spot on the tour.\n",
        "\n",
        "Using our knowledge of Python lists, we will create a master list of each painting, its date, and its audio tour ID."
      ],
      "metadata": {
        "id": "fdhwEHAhcc2U"
      }
    },
    {
      "cell_type": "markdown",
      "source": [
        "First, we need to create a list called \"paintings\" and add the following titles to it: \"The Two Fridas\", \"My Dress Hangs Here\", \"Tree of Hope\", \"Self Portrait With Monkeys\"."
      ],
      "metadata": {
        "id": "chwU1Ya7giqz"
      }
    },
    {
      "cell_type": "code",
      "execution_count": null,
      "metadata": {
        "id": "0Lx66DYncNH2"
      },
      "outputs": [],
      "source": [
        "paintings = [\"The Two Fridas\", \"My Dress Hangs Here\", \"Tree of Hope\", \"Self Portrait With Monkeys\"]"
      ]
    },
    {
      "cell_type": "markdown",
      "source": [
        "Next, we will create a second list called \"dates\" and give it the following values: 1939, 1933, 1946, 1940."
      ],
      "metadata": {
        "id": "pxrM6h6ZhHD3"
      }
    },
    {
      "cell_type": "code",
      "source": [
        "paintings = [\"The Two Fridas\", \"My Dress Hangs Here\", \"Tree of Hope\", \"Self Portrait With Monkeys\"]\n",
        "dates= [1939, 1933, 1946, 1940]"
      ],
      "metadata": {
        "id": "u9ecJAPeqLX_"
      },
      "execution_count": null,
      "outputs": []
    },
    {
      "cell_type": "markdown",
      "source": [
        "Now, we will use the zip function to join the list together and then convert to a list function to make it readable. We will also be assigning the list a value to make future analysis easier."
      ],
      "metadata": {
        "id": "vAJInfNkqXl_"
      }
    },
    {
      "cell_type": "code",
      "source": [
        "paintings = [\"The Two Fridas\", \"My Dress Hangs Here\", \"Tree of Hope\", \"Self Portrait With Monkeys\", \"The Broken Column\", \"The Wounded Deer\", \"Me and My Doll\"]\n",
        "dates= [1939, 1933, 1946, 1940, 1944, 1946, 1937]\n",
        "painting_list= list(zip(paintings, dates))\n",
        "print(painting_list)"
      ],
      "metadata": {
        "colab": {
          "base_uri": "https://localhost:8080/"
        },
        "id": "-NmbpZ1tqXGl",
        "outputId": "ee015155-f150-43cd-a856-1450180a44b3"
      },
      "execution_count": 7,
      "outputs": [
        {
          "output_type": "stream",
          "name": "stdout",
          "text": [
            "[('The Two Fridas', 1939), ('My Dress Hangs Here', 1933), ('Tree of Hope', 1946), ('Self Portrait With Monkeys', 1940), ('The Broken Column', 1944), ('The Wounded Deer', 1946), ('Me and My Doll', 1937)]\n"
          ]
        }
      ]
    },
    {
      "cell_type": "markdown",
      "source": [
        "Since each of the paintings are going to be in the audio tour, they each to be set to a unique identification number. Before we assign them a number, we first need to check how many paintings there are in total."
      ],
      "metadata": {
        "id": "pwyGnwjItIwD"
      }
    },
    {
      "cell_type": "code",
      "source": [
        "paintings = [\"The Two Fridas\", \"My Dress Hangs Here\", \"Tree of Hope\", \"Self Portrait With Monkeys\", \"The Broken Column\", \"The Wounded Deer\", \"Me and My Doll\"]\n",
        "dates= [1939, 1933, 1946, 1940, 1944, 1946, 1937]\n",
        "painting_list= list(zip(paintings, dates))\n",
        "print(len(painting_list))"
      ],
      "metadata": {
        "colab": {
          "base_uri": "https://localhost:8080/"
        },
        "id": "XyNO7brqtV7V",
        "outputId": "7619ddf9-fa65-43bb-f115-ab4733eada36"
      },
      "execution_count": 8,
      "outputs": [
        {
          "output_type": "stream",
          "name": "stdout",
          "text": [
            "7\n"
          ]
        }
      ]
    },
    {
      "cell_type": "markdown",
      "source": [
        "Perfect! Now, we will use the range function to assign an identification number that will start with 1 and will continue until it hits the end of the listed items."
      ],
      "metadata": {
        "id": "rGDO_XHotuaq"
      }
    },
    {
      "cell_type": "code",
      "source": [
        "paintings = [\"The Two Fridas\", \"My Dress Hangs Here\", \"Tree of Hope\", \"Self Portrait With Monkeys\", \"The Broken Column\", \"The Wounded Deer\", \"Me and My Doll\"]\n",
        "dates= [1939, 1933, 1946, 1940, 1944, 1946, 1937]\n",
        "painting_list= list(zip(paintings, dates))\n",
        "id_numbers = [i + 1 for i in range(len(painting_list))]\n",
        "print(id_numbers)"
      ],
      "metadata": {
        "colab": {
          "base_uri": "https://localhost:8080/"
        },
        "id": "J1RJe0nxuPwt",
        "outputId": "7564f288-e64a-4921-d87c-333aefd26df3"
      },
      "execution_count": 13,
      "outputs": [
        {
          "output_type": "stream",
          "name": "stdout",
          "text": [
            "[1, 2, 3, 4, 5, 6, 7]\n"
          ]
        }
      ]
    },
    {
      "cell_type": "markdown",
      "source": [
        "Awesome! Now, we will zip the \"paintings\" list and the \"id_numbers\" list together and create a \"master_list\"."
      ],
      "metadata": {
        "id": "wm1_XadLAlQy"
      }
    },
    {
      "cell_type": "code",
      "source": [
        "paintings = [\"The Two Fridas\", \"My Dress Hangs Here\", \"Tree of Hope\", \"Self Portrait With Monkeys\", \"The Broken Column\", \"The Wounded Deer\", \"Me and My Doll\"]\n",
        "dates= [1939, 1933, 1946, 1940, 1944, 1946, 1937]\n",
        "painting_list= list(zip(paintings, dates))\n",
        "id_numbers = [i + 1 for i in range(len(painting_list))]\n",
        "master_list = list(zip(id_numbers,paintings))\n",
        "print(master_list)"
      ],
      "metadata": {
        "colab": {
          "base_uri": "https://localhost:8080/"
        },
        "id": "tbmxejTcGW7E",
        "outputId": "061f5f82-3c7a-4070-f6b6-49f2896a3780"
      },
      "execution_count": 16,
      "outputs": [
        {
          "output_type": "stream",
          "name": "stdout",
          "text": [
            "[(1, 'The Two Fridas'), (2, 'My Dress Hangs Here'), (3, 'Tree of Hope'), (4, 'Self Portrait With Monkeys'), (5, 'The Broken Column'), (6, 'The Wounded Deer'), (7, 'Me and My Doll')]\n"
          ]
        }
      ]
    },
    {
      "cell_type": "markdown",
      "source": [
        "Great! We were able to recreate Frida Kahlo's work and list them using multiple Python functions! Thank you."
      ],
      "metadata": {
        "id": "H1YLwefdGzKp"
      }
    }
  ]
}