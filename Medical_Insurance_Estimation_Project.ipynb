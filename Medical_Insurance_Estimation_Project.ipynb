{
  "nbformat": 4,
  "nbformat_minor": 0,
  "metadata": {
    "colab": {
      "provenance": [],
      "authorship_tag": "ABX9TyMnrqvnwJy4U16vhxuitWAP",
      "include_colab_link": true
    },
    "kernelspec": {
      "name": "python3",
      "display_name": "Python 3"
    },
    "language_info": {
      "name": "python"
    }
  },
  "cells": [
    {
      "cell_type": "markdown",
      "metadata": {
        "id": "view-in-github",
        "colab_type": "text"
      },
      "source": [
        "<a href=\"https://colab.research.google.com/github/ZachA-D/Beginner_python_project/blob/main/Medical_Insurance_Estimation_Project.ipynb\" target=\"_parent\"><img src=\"https://colab.research.google.com/assets/colab-badge.svg\" alt=\"Open In Colab\"/></a>"
      ]
    },
    {
      "cell_type": "markdown",
      "source": [
        "In this project, We will examine how factors such as age, sex, BMI, number of children, and smoking status contribute to medical insurance costs.\n",
        "\n",
        "Note: while insurance companies do use BMI in their calculations, and that is reflected in this project, BMI is not necessarily an accurate predictor of health. As data scientists, we should always be skeptical of quantitative measures like BMI that reduce complex phenomena to a single number.\n",
        "\n"
      ],
      "metadata": {
        "id": "V5_1g2OoorSw"
      }
    },
    {
      "cell_type": "markdown",
      "source": [
        "**Step 1. Create a List**"
      ],
      "metadata": {
        "id": "3-WLyS4-KKQI"
      }
    },
    {
      "cell_type": "markdown",
      "source": [
        "1. First, let's look at the the function that we will use, this function will be named \"estimate_insurance_cost\". Estimates on insurance costs for an individual will be based on five variables\n",
        "\n",
        "\n",
        "*   age = Age of the individual in years\n",
        "*   sex = 0 for female, 1 for male\n",
        "*   bmi = Individual's body mass index\n",
        "*   num_of_children = Number of children the individual has\n",
        "\n",
        "*   smoker = 0 for non-smoker, 1 for a smoker\n",
        "\n",
        "These variables are used in the following formula to estimate an individual's insurance cost ($USD).\n",
        "\n",
        "\n",
        "\n",
        "\n"
      ],
      "metadata": {
        "id": "Wy_GqdFPo8oz"
      }
    },
    {
      "cell_type": "code",
      "execution_count": null,
      "metadata": {
        "id": "i35AcGUFof2s"
      },
      "outputs": [],
      "source": [
        "def estimate_insurance_cost(name, age, sex, bmi, num_of_children, smoker):\n",
        "  estimated_cost = 250*age - 128*sex + 370*bmi + 425*num_of_children + 24000*smoker - 12500\n",
        "  print(name + \"'s Estimated Insurance Cost: \" + str(estimated_cost) + \" dollars.\")\n",
        "  return estimated_cost\n",
        "\n",
        "  # Estimate Alexia's insurance cost\n",
        "Alexia_insurance_cost = estimate_insurance_cost(name = \"Alexia\", age = 31, sex = 0, bmi = 23.1, num_of_children = 1, smoker = 0)\n",
        "\n",
        "# Estimate John's insurance cost\n",
        "John_insurance_cost = estimate_insurance_cost(name = \"John\", age = 25, sex = 1, bmi = 28.5, num_of_children = 3, smoker = 1)\n",
        "\n",
        "# Estimate Ellie's insurance cost\n",
        "ellie_insurance_cost = estimate_insurance_cost(name = \"Ellie\", age = 40, sex = 0, bmi = 31.1, num_of_children = 2, smoker = 0)"
      ]
    },
    {
      "cell_type": "markdown",
      "source": [
        "We want to compare the estimated insurance costs (as calculated by our function) to the actual amounts that Alexia, John, and Ellie paid.\n",
        "\n",
        "We created a list called \"names\" and filled the names with the names of the individuals you are estimating insurance costs for:\n",
        "\n",
        "\n",
        "*   Alexia\n",
        "*   John\n",
        "*   Ellie\n",
        "\n",
        "\n"
      ],
      "metadata": {
        "id": "52IFcJ0nJQTb"
      }
    },
    {
      "cell_type": "code",
      "source": [
        "def estimate_insurance_cost(name, age, sex, bmi, num_of_children, smoker):\n",
        "  estimated_cost = 250*age - 128*sex + 370*bmi + 425*num_of_children + 24000*smoker - 12500\n",
        "  print(name + \"'s Estimated Insurance Cost: \" + str(estimated_cost) + \" dollars.\")\n",
        "  return estimated_cost\n",
        "\n",
        "  # Estimate Alexia's insurance cost\n",
        "Alexia_insurance_cost = estimate_insurance_cost(name = \"Alexia\", age = 31, sex = 0, bmi = 23.1, num_of_children = 1, smoker = 0)\n",
        "\n",
        "# Estimate John's insurance cost\n",
        "John_insurance_cost = estimate_insurance_cost(name = \"John\", age = 25, sex = 1, bmi = 28.5, num_of_children = 3, smoker = 1)\n",
        "\n",
        "# Estimate Ellie's insurance cost\n",
        "ellie_insurance_cost = estimate_insurance_cost(name = \"Ellie\", age = 40, sex = 0, bmi = 31.1, num_of_children = 2, smoker = 0)\n",
        "\n",
        "names = [\"Alexia\", \"John\", \"Ellie\"]"
      ],
      "metadata": {
        "id": "wOzhskcA-PXX"
      },
      "execution_count": null,
      "outputs": []
    },
    {
      "cell_type": "markdown",
      "source": [
        "Next, we will create a list called \"insurance_costs\" and fill it with the actual amounts that Alexia, John, and Ellie paid for in insurance:\n",
        "\n",
        "\n",
        "*   4150.0\n",
        "*   5320.0\n",
        "*   35210.0\n",
        "\n",
        "\n",
        "\n"
      ],
      "metadata": {
        "id": "TRl6wf2CrJGv"
      }
    },
    {
      "cell_type": "markdown",
      "source": [
        "Currently our \"names\" and \"insurance_costs\" lists are seperate, but we want each name to be paired with an insurance cost"
      ],
      "metadata": {
        "id": "CDKeDmGnI4bM"
      }
    },
    {
      "cell_type": "markdown",
      "source": [
        "**Step 2. Combining Lists**"
      ],
      "metadata": {
        "id": "IuyA07_WKfVd"
      }
    },
    {
      "cell_type": "markdown",
      "source": [
        "Right now, the \"names\" and \"insurance_costs\" lists are seperate, but we want each names to be paired with the insurance cost. To combine them we will use the zip function to combine \"names\" and \"insurance_costs\" to create a new variable called \"insurance data\""
      ],
      "metadata": {
        "id": "LUtFgsFYLAHe"
      }
    },
    {
      "cell_type": "code",
      "source": [
        "def estimate_insurance_cost(name, age, sex, bmi, num_of_children, smoker):\n",
        "  estimated_cost = 250*age - 128*sex + 370*bmi + 425*num_of_children + 24000*smoker - 12500\n",
        "  print(name + \"'s Estimated Insurance Cost: \" + str(estimated_cost) + \" dollars.\")\n",
        "  return estimated_cost\n",
        "\n",
        "  # Estimate Alexia's insurance cost\n",
        "Alexia_insurance_cost = estimate_insurance_cost(name = \"Alexia\", age = 31, sex = 0, bmi = 23.1, num_of_children = 1, smoker = 0)\n",
        "\n",
        "# Estimate John's insurance cost\n",
        "John_insurance_cost = estimate_insurance_cost(name = \"John\", age = 25, sex = 1, bmi = 28.5, num_of_children = 3, smoker = 1)\n",
        "\n",
        "# Estimate Ellie's insurance cost\n",
        "ellie_insurance_cost = estimate_insurance_cost(name = \"Ellie\", age = 40, sex = 0, bmi = 31.1, num_of_children = 2, smoker = 0)\n",
        "\n",
        "names = [\"Alexia\", \"John\", \"Ellie\"]\n",
        "insurance_costs = [4150.0, 5320.0, 35210.0]\n",
        "\n",
        "insurance_data = zip(names, insurance_costs)\n",
        "print(insurance_data)"
      ],
      "metadata": {
        "colab": {
          "base_uri": "https://localhost:8080/"
        },
        "id": "Ii7SoxuT96So",
        "outputId": "28a1176f-f052-4338-bfda-98adc5f333bf"
      },
      "execution_count": null,
      "outputs": [
        {
          "output_type": "stream",
          "name": "stdout",
          "text": [
            "Alexia's Estimated Insurance Cost: 4222.0 dollars.\n",
            "Jonathan's Estimated Insurance Cost: 29442.0 dollars.\n",
            "Ellie's Estimated Insurance Cost: 9857.0 dollars.\n",
            "<zip object at 0x79fe9cf31ec0>\n"
          ]
        }
      ]
    },
    {
      "cell_type": "markdown",
      "source": [
        "Now, we must convert the zip object to a list so it can be understood. To do this, we will use the list function"
      ],
      "metadata": {
        "id": "nFwte59M-vax"
      }
    },
    {
      "cell_type": "code",
      "source": [
        "def estimate_insurance_cost(name, age, sex, bmi, num_of_children, smoker):\n",
        "  estimated_cost = 250*age - 128*sex + 370*bmi + 425*num_of_children + 24000*smoker - 12500\n",
        "  print(name + \"'s Estimated Insurance Cost: \" + str(estimated_cost) + \" dollars.\")\n",
        "  return estimated_cost\n",
        "\n",
        "  # Estimate Alexia's insurance cost\n",
        "Alexia_insurance_cost = estimate_insurance_cost(name = \"Alexia\", age = 31, sex = 0, bmi = 23.1, num_of_children = 1, smoker = 0)\n",
        "\n",
        "# Estimate John's insurance cost\n",
        "John_insurance_cost = estimate_insurance_cost(name = \"John\", age = 25, sex = 1, bmi = 28.5, num_of_children = 3, smoker = 1)\n",
        "\n",
        "# Estimate Ellie's insurance cost\n",
        "ellie_insurance_cost = estimate_insurance_cost(name = \"Ellie\", age = 40, sex = 0, bmi = 31.1, num_of_children = 2, smoker = 0)\n",
        "\n",
        "names = [\"Alexia\", \"John\", \"Ellie\"]\n",
        "insurance_costs = [4150.0, 5320.0, 35210.0]\n",
        "\n",
        "insurance_data = list(zip(names, insurance_costs))\n",
        "print(insurance_data)"
      ],
      "metadata": {
        "colab": {
          "base_uri": "https://localhost:8080/"
        },
        "outputId": "1f969999-6d03-4ecb-e7de-1d546e316409",
        "id": "8cwslxotAUqG"
      },
      "execution_count": null,
      "outputs": [
        {
          "output_type": "stream",
          "name": "stdout",
          "text": [
            "Alexia's Estimated Insurance Cost: 4222.0 dollars.\n",
            "Jonathan's Estimated Insurance Cost: 29442.0 dollars.\n",
            "Ellie's Estimated Insurance Cost: 9857.0 dollars.\n",
            "[('Alexia', 4150.0), ('Jonathan', 5320.0), ('Ellie', 35210.0)]\n"
          ]
        }
      ]
    },
    {
      "cell_type": "markdown",
      "source": [
        "**Appending to a List**"
      ],
      "metadata": {
        "id": "GhogCmSw_Sns"
      }
    },
    {
      "cell_type": "markdown",
      "source": [
        "Next we will create an empty list called \"estimated_insurance_data\". We will use this list to store the estimated insurance costs for Alexia, John, and Ellie"
      ],
      "metadata": {
        "id": "ce6XO5ahJQtM"
      }
    },
    {
      "cell_type": "code",
      "source": [
        "def estimate_insurance_cost(name, age, sex, bmi, num_of_children, smoker):\n",
        "  estimated_cost = 250*age - 128*sex + 370*bmi + 425*num_of_children + 24000*smoker - 12500\n",
        "  print(name + \"'s Estimated Insurance Cost: \" + str(estimated_cost) + \" dollars.\")\n",
        "  return estimated_cost\n",
        "\n",
        "  # Estimate Alexia's insurance cost\n",
        "Alexia_insurance_cost = estimate_insurance_cost(name = \"Alexia\", age = 31, sex = 0, bmi = 23.1, num_of_children = 1, smoker = 0)\n",
        "\n",
        "# Estimate John's insurance cost\n",
        "John_insurance_cost = estimate_insurance_cost(name = \"John\", age = 25, sex = 1, bmi = 28.5, num_of_children = 3, smoker = 1)\n",
        "\n",
        "# Estimate Ellie's insurance cost\n",
        "ellie_insurance_cost = estimate_insurance_cost(name = \"Ellie\", age = 40, sex = 0, bmi = 31.1, num_of_children = 2, smoker = 0)\n",
        "\n",
        "names = [\"Alexia\", \"John\", \"Ellie\"]\n",
        "insurance_costs = [4150.0, 5320.0, 35210.0]\n",
        "\n",
        "insurance_data = list(zip(names, insurance_costs))\n",
        "print(insurance_data)\n",
        "\n",
        "estimated_insurance_data = []"
      ],
      "metadata": {
        "id": "ZjzV4a7hKZXf"
      },
      "execution_count": null,
      "outputs": []
    },
    {
      "cell_type": "markdown",
      "source": [
        "Now, we will be adding our estimated insurance data from Alexia, John, and Ellie to the \"estimated_insurance_data\" list.\n",
        "\n",
        "To do this, we will be using the .append() methoid to add Alexia,John, and Ellie's information"
      ],
      "metadata": {
        "id": "f161V1kGKkNS"
      }
    },
    {
      "cell_type": "code",
      "source": [
        "def estimate_insurance_cost(name, age, sex, bmi, num_of_children, smoker):\n",
        "  estimated_cost = 250*age - 128*sex + 370*bmi + 425*num_of_children + 24000*smoker - 12500\n",
        "  print(name + \"'s Estimated Insurance Cost: \" + str(estimated_cost) + \" dollars.\")\n",
        "  return estimated_cost\n",
        "\n",
        "  # Estimate Alexia's insurance cost\n",
        "Alexia_insurance_cost = estimate_insurance_cost(name = \"Alexia\", age = 31, sex = 0, bmi = 23.1, num_of_children = 1, smoker = 0)\n",
        "\n",
        "# Estimate John's insurance cost\n",
        "John_insurance_cost = estimate_insurance_cost(name = \"John\", age = 25, sex = 1, bmi = 28.5, num_of_children = 3, smoker = 1)\n",
        "\n",
        "# Estimate Ellie's insurance cost\n",
        "ellie_insurance_cost = estimate_insurance_cost(name = \"Ellie\", age = 40, sex = 0, bmi = 31.1, num_of_children = 2, smoker = 0)\n",
        "\n",
        "names = [\"Alexia\", \"John\", \"Ellie\"]\n",
        "insurance_costs = [4150.0, 5320.0, 35210.0]\n",
        "\n",
        "insurance_data = list(zip(names, insurance_costs))\n",
        "print(insurance_data)\n",
        "\n",
        "estimated_insurance_data = []\n",
        "\n",
        "estimated_insurance_data.append(Alexia_insurance_cost)\n",
        "estimated_insurance_data.append(John_insurance_cost)\n",
        "estimated_insurance_data.append(ellie_insurance_cost)\n",
        "print(estimated_insurance_data)"
      ],
      "metadata": {
        "colab": {
          "base_uri": "https://localhost:8080/"
        },
        "id": "4VRIexw2ZgdF",
        "outputId": "fd4f7927-d68d-4df4-c97b-f606cb50c75e"
      },
      "execution_count": null,
      "outputs": [
        {
          "output_type": "stream",
          "name": "stdout",
          "text": [
            "Alexia's Estimated Insurance Cost: 4222.0 dollars.\n",
            "John's Estimated Insurance Cost: 29442.0 dollars.\n",
            "Ellie's Estimated Insurance Cost: 9857.0 dollars.\n",
            "[('Alexia', 4150.0), ('John', 5320.0), ('Ellie', 35210.0)]\n",
            "[4222.0, 29442.0, 9857.0]\n"
          ]
        }
      ]
    },
    {
      "cell_type": "markdown",
      "source": [
        "Now, let's create a printed statement to make it easier for people to read!"
      ],
      "metadata": {
        "id": "afnOzyGcbnYk"
      }
    },
    {
      "cell_type": "code",
      "source": [
        "def estimate_insurance_cost(name, age, sex, bmi, num_of_children, smoker):\n",
        "  estimated_cost = 250*age - 128*sex + 370*bmi + 425*num_of_children + 24000*smoker - 12500\n",
        "  print(name + \"'s Estimated Insurance Cost: \" + str(estimated_cost) + \" dollars.\")\n",
        "  return estimated_cost\n",
        "\n",
        "  # Estimate Alexia's insurance cost\n",
        "Alexia_insurance_cost = estimate_insurance_cost(name = \"Alexia\", age = 31, sex = 0, bmi = 23.1, num_of_children = 1, smoker = 0)\n",
        "\n",
        "# Estimate John's insurance cost\n",
        "John_insurance_cost = estimate_insurance_cost(name = \"John\", age = 25, sex = 1, bmi = 28.5, num_of_children = 3, smoker = 1)\n",
        "\n",
        "# Estimate Ellie's insurance cost\n",
        "ellie_insurance_cost = estimate_insurance_cost(name = \"Ellie\", age = 40, sex = 0, bmi = 31.1, num_of_children = 2, smoker = 0)\n",
        "\n",
        "names = [\"Alexia\", \"John\", \"Ellie\"]\n",
        "insurance_costs = [4150.0, 5320.0, 35210.0]\n",
        "\n",
        "insurance_data = list(zip(names, insurance_costs))\n",
        "print(insurance_data)\n",
        "\n",
        "estimated_insurance_data = []\n",
        "\n",
        "estimated_insurance_data.append(Alexia_insurance_cost)\n",
        "estimated_insurance_data.append(John_insurance_cost)\n",
        "estimated_insurance_data.append(ellie_insurance_cost)\n",
        "print(estimated_insurance_data)\n",
        "\n",
        "print(\"Here is the estimated insurance cost for Alexia, John, and Ellie: \" + str(estimated_insurance_data))\n",
        "\n",
        "print(\"Here is the actual insurance cost for Alexia, John, and Ellie: \"+ str(insurance_costs))"
      ],
      "metadata": {
        "colab": {
          "base_uri": "https://localhost:8080/"
        },
        "id": "pqP-Ixl-bxbS",
        "outputId": "a2cbc823-a528-441a-b3b7-c992f8f07f8d"
      },
      "execution_count": null,
      "outputs": [
        {
          "output_type": "stream",
          "name": "stdout",
          "text": [
            "Alexia's Estimated Insurance Cost: 4222.0 dollars.\n",
            "John's Estimated Insurance Cost: 29442.0 dollars.\n",
            "Ellie's Estimated Insurance Cost: 9857.0 dollars.\n",
            "[('Alexia', 4150.0), ('John', 5320.0), ('Ellie', 35210.0)]\n",
            "[4222.0, 29442.0, 9857.0]\n",
            "Here is the estimated insurance cost for Alexia, John, and Ellie: [4222.0, 29442.0, 9857.0]\n",
            "Here is the actual insurance cost for Alexia, John, and Ellie: [4150.0, 5320.0, 35210.0]\n"
          ]
        }
      ]
    },
    {
      "cell_type": "markdown",
      "source": [
        "As we can see, the difference between estimate and actual cost varies from each individual.\n",
        "\n",
        "Thank you!"
      ],
      "metadata": {
        "id": "zWecWTSTcliC"
      }
    }
  ]
}