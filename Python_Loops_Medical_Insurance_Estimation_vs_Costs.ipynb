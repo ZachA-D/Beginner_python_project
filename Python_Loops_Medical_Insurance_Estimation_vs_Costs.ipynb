{
  "nbformat": 4,
  "nbformat_minor": 0,
  "metadata": {
    "colab": {
      "provenance": [],
      "authorship_tag": "ABX9TyNQ8RRr88ums45ykMidVYpU",
      "include_colab_link": true
    },
    "kernelspec": {
      "name": "python3",
      "display_name": "Python 3"
    },
    "language_info": {
      "name": "python"
    }
  },
  "cells": [
    {
      "cell_type": "markdown",
      "metadata": {
        "id": "view-in-github",
        "colab_type": "text"
      },
      "source": [
        "<a href=\"https://colab.research.google.com/github/ZachA-D/Beginner_python_project/blob/main/Python_Loops_Medical_Insurance_Estimation_vs_Costs.ipynb\" target=\"_parent\"><img src=\"https://colab.research.google.com/assets/colab-badge.svg\" alt=\"Open In Colab\"/></a>"
      ]
    },
    {
      "cell_type": "markdown",
      "source": [
        "# Python Loops Medical Insurance Estimation vs Costs"
      ],
      "metadata": {
        "id": "WdBbi2SbUKTo"
      }
    },
    {
      "cell_type": "markdown",
      "source": [
        "In this project we will be using our skills with Python loop function to help us determine the difference between cost estimations vs final cost for insurance costs"
      ],
      "metadata": {
        "id": "D8kzHpHYUWkE"
      }
    },
    {
      "cell_type": "markdown",
      "source": [
        "**1. Creating a For Loop**"
      ],
      "metadata": {
        "id": "ZJHgAHkFUjX3"
      }
    },
    {
      "cell_type": "markdown",
      "source": [
        "Let's take a look atour three lists:"
      ],
      "metadata": {
        "id": "Ard6MimkU3yz"
      }
    },
    {
      "cell_type": "markdown",
      "source": [
        "names: stores the names of seven individuals.\n",
        "\n",
        "estimated_insurance_costs: stores the estimated medical insurance costs for the individuals.\n",
        "\n",
        "actual_insurance_costs: stores the actual insurance costs paid by the individuals."
      ],
      "metadata": {
        "id": "smRn81jtWcJi"
      }
    },
    {
      "cell_type": "code",
      "execution_count": 6,
      "metadata": {
        "id": "2KRU2VMOT7Gs"
      },
      "outputs": [],
      "source": [
        "names = [\"Judith\", \"Abel\", \"Tyson\", \"Martha\", \"Beverley\", \"David\", \"Anabel\"]\n",
        "estimated_insurance_costs = [1000.0, 2000.0, 3000.0, 4000.0, 5000.0, 6000.0, 7000.0]\n",
        "actual_insurance_costs = [1100.0, 2200.0, 3300.0, 4400.0, 5500.0, 6600.0, 7700.0]\n"
      ]
    },
    {
      "cell_type": "markdown",
      "source": [
        "We want to calculate the average insurance cost each person paid. We'll start by adding up all the insurance costs. To start off, we will create a variable called total_cost and set the value to 0:"
      ],
      "metadata": {
        "id": "fl4dSULTUJWy"
      }
    },
    {
      "cell_type": "code",
      "source": [
        "names = [\"Judith\", \"Abel\", \"Tyson\", \"Martha\", \"Beverley\", \"David\", \"Anabel\"]\n",
        "estimated_insurance_costs = [1000.0, 2000.0, 3000.0, 4000.0, 5000.0, 6000.0, 7000.0]\n",
        "actual_insurance_costs = [1100.0, 2200.0, 3300.0, 4400.0, 5500.0, 6600.0, 7700.0]\n",
        "\n",
        "total_cost = 0"
      ],
      "metadata": {
        "id": "SOzDACnTVdqw"
      },
      "execution_count": 4,
      "outputs": []
    },
    {
      "cell_type": "markdown",
      "source": [
        "Next, we will use a for loop to iterate though actual_insurance_costs and add each insurance cost to the variable total_cost:"
      ],
      "metadata": {
        "id": "4YbJVF_BViZx"
      }
    },
    {
      "cell_type": "code",
      "source": [
        "names = [\"Judith\", \"Abel\", \"Tyson\", \"Martha\", \"Beverley\", \"David\", \"Anabel\"]\n",
        "estimated_insurance_costs = [1000.0, 2000.0, 3000.0, 4000.0, 5000.0, 6000.0, 7000.0]\n",
        "actual_insurance_costs = [1100.0, 2200.0, 3300.0, 4400.0, 5500.0, 6600.0, 7700.0]\n",
        "\n",
        "\n",
        "total_cost = 0\n",
        "\n",
        "for cost in actual_insurance_costs:\n",
        "    total_cost += cost"
      ],
      "metadata": {
        "id": "aU2WwdaUV6Rk"
      },
      "execution_count": 3,
      "outputs": []
    },
    {
      "cell_type": "markdown",
      "source": [
        "Next, we will create a variable called average_cost that stores the total_cost divided by the length of the actual_insurance_costs list:"
      ],
      "metadata": {
        "id": "6HH13z2OXDNO"
      }
    },
    {
      "cell_type": "code",
      "source": [
        "names = [\"Judith\", \"Abel\", \"Tyson\", \"Martha\", \"Beverley\", \"David\", \"Anabel\"]\n",
        "estimated_insurance_costs = [1000.0, 2000.0, 3000.0, 4000.0, 5000.0, 6000.0, 7000.0]\n",
        "actual_insurance_costs = [1100.0, 2200.0, 3300.0, 4400.0, 5500.0, 6600.0, 7700.0]\n",
        "\n",
        "\n",
        "total_cost = 0\n",
        "\n",
        "for cost in actual_insurance_costs:\n",
        "    total_cost += cost\n",
        "\n",
        "average_cost = total_cost / len(actual_insurance_costs)"
      ],
      "metadata": {
        "id": "IuTLctFQXU-I"
      },
      "execution_count": 7,
      "outputs": []
    },
    {
      "cell_type": "markdown",
      "source": [
        "Now, we will print out the average costs for our shareholders:"
      ],
      "metadata": {
        "id": "2KZYYczdXa5I"
      }
    },
    {
      "cell_type": "code",
      "source": [
        "names = [\"Judith\", \"Abel\", \"Tyson\", \"Martha\", \"Beverley\", \"David\", \"Anabel\"]\n",
        "estimated_insurance_costs = [1000.0, 2000.0, 3000.0, 4000.0, 5000.0, 6000.0, 7000.0]\n",
        "actual_insurance_costs = [1100.0, 2200.0, 3300.0, 4400.0, 5500.0, 6600.0, 7700.0]\n",
        "\n",
        "\n",
        "total_cost = 0\n",
        "\n",
        "for cost in actual_insurance_costs:\n",
        "    total_cost += cost\n",
        "\n",
        "average_cost = total_cost / len(actual_insurance_costs)\n",
        "\n",
        "print(\"The average insurance cost for this list is \" + str(average_cost) + \" dollars\")"
      ],
      "metadata": {
        "colab": {
          "base_uri": "https://localhost:8080/"
        },
        "id": "9TvsL402XmP8",
        "outputId": "c78bee23-6cc4-469c-9436-ef6a6cdcbc7f"
      },
      "execution_count": 10,
      "outputs": [
        {
          "output_type": "stream",
          "name": "stdout",
          "text": [
            "The average insurance cost for this list is 4400.0 dollars\n"
          ]
        }
      ]
    },
    {
      "cell_type": "markdown",
      "source": [
        "**2. Using Range in Loops**"
      ],
      "metadata": {
        "id": "5zC8fqQBYK8s"
      }
    },
    {
      "cell_type": "markdown",
      "source": [
        "Now that we have the average cost, we need to determine if the individual paying is above or below the average cost. To start off, we will determine how much each person is paying . **Note:** for this next section we will be using the variable \"i\" to represent the individual"
      ],
      "metadata": {
        "id": "lPil20_AYO48"
      }
    },
    {
      "cell_type": "code",
      "source": [
        "names = [\"Judith\", \"Abel\", \"Tyson\", \"Martha\", \"Beverley\", \"David\", \"Anabel\"]\n",
        "estimated_insurance_costs = [1000.0, 2000.0, 3000.0, 4000.0, 5000.0, 6000.0, 7000.0]\n",
        "actual_insurance_costs = [1100.0, 2200.0, 3300.0, 4400.0, 5500.0, 6600.0, 7700.0]\n",
        "\n",
        "total_cost = 0\n",
        "\n",
        "for cost in actual_insurance_costs:\n",
        "    total_cost += cost\n",
        "    average_cost = total_cost / len(actual_insurance_costs)\n",
        "\n",
        "for i in range(len(names)):\n",
        "  name = names[i]\n",
        "  insurance_cost = actual_insurance_costs[i]\n",
        "  print(\"The insurance cost for \" + name + \" is \" + str(insurance_cost) + \" dollars.\")\n"
      ],
      "metadata": {
        "colab": {
          "base_uri": "https://localhost:8080/"
        },
        "id": "h4JYd5uGccJN",
        "outputId": "198336bd-376a-4495-deb3-b3ffc8851dff"
      },
      "execution_count": 22,
      "outputs": [
        {
          "output_type": "stream",
          "name": "stdout",
          "text": [
            "The insurance cost for Judith is 1100.0 dollars.\n",
            "The insurance cost for Abel is 2200.0 dollars.\n",
            "The insurance cost for Tyson is 3300.0 dollars.\n",
            "The insurance cost for Martha is 4400.0 dollars.\n",
            "The insurance cost for Beverley is 5500.0 dollars.\n",
            "The insurance cost for David is 6600.0 dollars.\n",
            "The insurance cost for Anabel is 7700.0 dollars.\n"
          ]
        }
      ]
    },
    {
      "cell_type": "markdown",
      "source": [
        "**3. Conditions inside a Loop**"
      ],
      "metadata": {
        "id": "G9vyfWIec_md"
      }
    },
    {
      "cell_type": "markdown",
      "source": [
        "Now that we have the total amount each individual is paying, we will now use condition statements to determine wether the individual is paying above or below estimated cost."
      ],
      "metadata": {
        "id": "78cXxfrjdJzq"
      }
    },
    {
      "cell_type": "code",
      "source": [
        "names = [\"Judith\", \"Abel\", \"Tyson\", \"Martha\", \"Beverley\", \"David\", \"Anabel\"]\n",
        "estimated_insurance_costs = [1000.0, 2000.0, 3000.0, 4000.0, 5000.0, 6000.0, 7000.0]\n",
        "actual_insurance_costs = [1100.0, 2200.0, 3300.0, 4400.0, 5500.0, 6600.0, 7700.0]\n",
        "\n",
        "total_cost = 0\n",
        "\n",
        "for cost in actual_insurance_costs:\n",
        "    total_cost += cost\n",
        "    average_cost = total_cost / len(actual_insurance_costs)\n",
        "for i in range(len(names)):\n",
        "    name = names[i]\n",
        "    actual_cost = actual_insurance_costs[i]\n",
        "    estimated_cost = estimated_insurance_costs[i]\n",
        "    if actual_cost > estimated_cost:\n",
        "        print(name + \"'s insurance cost is above average\")\n",
        "    elif actual_cost < estimated_cost:\n",
        "        print(name + \"'s insurance cost is below average\")\n",
        "    else:\n",
        "        print(name + \"'s insurance cost is average\")\n",
        "\n",
        ""
      ],
      "metadata": {
        "colab": {
          "base_uri": "https://localhost:8080/"
        },
        "id": "JYB9VLevYqvo",
        "outputId": "d4428566-2be5-497d-ddbc-9f14ab158c63"
      },
      "execution_count": 23,
      "outputs": [
        {
          "output_type": "stream",
          "name": "stdout",
          "text": [
            "Judith's insurance cost is above average\n",
            "Abel's insurance cost is above average\n",
            "Tyson's insurance cost is above average\n",
            "Martha's insurance cost is above average\n",
            "Beverley's insurance cost is above average\n",
            "David's insurance cost is above average\n",
            "Anabel's insurance cost is above average\n"
          ]
        }
      ]
    },
    {
      "cell_type": "markdown",
      "source": [
        "Seems like everyone's insurance cost is higher than their estimation. but by how much? let's determine that!"
      ],
      "metadata": {
        "id": "TuSMklQZeQ3S"
      }
    },
    {
      "cell_type": "code",
      "source": [
        "names = [\"Judith\", \"Abel\", \"Tyson\", \"Martha\", \"Beverley\", \"David\", \"Anabel\"]\n",
        "estimated_insurance_costs = [1000.0, 2000.0, 3000.0, 4000.0, 5000.0, 6000.0, 7000.0]\n",
        "actual_insurance_costs = [1100.0, 2200.0, 3300.0, 4400.0, 5500.0, 6600.0, 7700.0]\n",
        "\n",
        "total_cost = 0\n",
        "\n",
        "for cost in actual_insurance_costs:\n",
        "    total_cost += cost\n",
        "    average_cost = total_cost / len(actual_insurance_costs)\n",
        "for i in range(len(names)):\n",
        "    name = names[i]\n",
        "    actual_cost = actual_insurance_costs[i]\n",
        "    estimated_cost = estimated_insurance_costs[i]\n",
        "    if actual_cost > estimated_cost:\n",
        "        print(name + \"'s insurance cost is above average by \" + str(actual_cost - estimated_cost))"
      ],
      "metadata": {
        "colab": {
          "base_uri": "https://localhost:8080/"
        },
        "id": "bRL6NOYMecDN",
        "outputId": "fd6e18c8-52bf-438c-e582-4e6e3abe148a"
      },
      "execution_count": 24,
      "outputs": [
        {
          "output_type": "stream",
          "name": "stdout",
          "text": [
            "Judith's insurance cost is above average by 100.0\n",
            "Abel's insurance cost is above average by 200.0\n",
            "Tyson's insurance cost is above average by 300.0\n",
            "Martha's insurance cost is above average by 400.0\n",
            "Beverley's insurance cost is above average by 500.0\n",
            "David's insurance cost is above average by 600.0\n",
            "Anabel's insurance cost is above average by 700.0\n"
          ]
        }
      ]
    },
    {
      "cell_type": "markdown",
      "source": [
        "**Creating a List Comprehension**"
      ],
      "metadata": {
        "id": "Dc_b03aNekf-"
      }
    },
    {
      "cell_type": "markdown",
      "source": [
        "That was fun! but unfortunately this is a lot of code and when there's a lot of code, it not only tends to create more oppurtunities for mistakes but also makes it harder for other analysts to read. for this we will use list comprehension."
      ],
      "metadata": {
        "id": "l-tuEzTNeqiG"
      }
    },
    {
      "cell_type": "markdown",
      "source": [
        "for this we have noticed from a glance that the difference between the actual_insurance_costs from the estimated_insurance_costs is 10%. lets apply that to our list comprehension function."
      ],
      "metadata": {
        "id": "ZebmTkRwf-r6"
      }
    },
    {
      "cell_type": "code",
      "source": [
        "names = [\"Judith\", \"Abel\", \"Tyson\", \"Martha\", \"Beverley\", \"David\", \"Anabel\"]\n",
        "estimated_insurance_costs = [1000.0, 2000.0, 3000.0, 4000.0, 5000.0, 6000.0, 7000.0]\n",
        "actual_insurance_costs = [1100.0, 2200.0, 3300.0, 4400.0, 5500.0, 6600.0, 7700.0]\n",
        "\n",
        "total_cost = 0\n",
        "\n",
        "updated_estimated_cost = [estimated_cost * 11/10 for estimated_cost in estimated_insurance_costs]\n",
        "print(updated_estimated_cost)"
      ],
      "metadata": {
        "colab": {
          "base_uri": "https://localhost:8080/"
        },
        "id": "FT3lcwy6fe58",
        "outputId": "ff8602d1-a82a-4487-bf92-9afe2adcda3d"
      },
      "execution_count": 27,
      "outputs": [
        {
          "output_type": "stream",
          "name": "stdout",
          "text": [
            "[1100.0, 2200.0, 3300.0, 4400.0, 5500.0, 6600.0, 7700.0]\n"
          ]
        }
      ]
    },
    {
      "cell_type": "markdown",
      "source": [
        "Amazing! during this analysis we were able to use Loops in Python to iterate though and analyze medical insurance cost data. Thank you for reading!"
      ],
      "metadata": {
        "id": "cc6-p8P_ghO8"
      }
    }
  ]
}